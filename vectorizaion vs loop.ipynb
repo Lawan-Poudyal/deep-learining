{
 "cells": [
  {
   "cell_type": "code",
   "execution_count": 2,
   "id": "0dd39faa",
   "metadata": {},
   "outputs": [],
   "source": [
    "import numpy as np\n",
    "import time \n"
   ]
  },
  {
   "cell_type": "code",
   "execution_count": 9,
   "id": "abbedb12",
   "metadata": {},
   "outputs": [
    {
     "name": "stdout",
     "output_type": "stream",
     "text": [
      "Vectorization: 4.5337677001953125 ms\n",
      "For loop: 501.79576873779297 ms\n"
     ]
    }
   ],
   "source": [
    "a = np.random.rand(1000000)\n",
    "b = np.random.rand(1000000)\n",
    "\n",
    "start= time.time()\n",
    "c = np.dot(a,b)\n",
    "end = time.time()\n",
    "\n",
    "print(f\"Vectorization: {1000*(end-start)} ms\" )\n",
    "\n",
    "\n",
    "c=0\n",
    "\n",
    "start- time.time()\n",
    "for i in range(1000000):\n",
    "    c = a[i] *b[i]\n",
    "end = time.time()\n",
    "\n",
    "print(f\"For loop: {1000*(end-start)} ms\")"
   ]
  },
  {
   "cell_type": "code",
   "execution_count": null,
   "id": "b8b32e30",
   "metadata": {},
   "outputs": [],
   "source": []
  }
 ],
 "metadata": {
  "kernelspec": {
   "display_name": "Python 3",
   "language": "python",
   "name": "python3"
  },
  "language_info": {
   "codemirror_mode": {
    "name": "ipython",
    "version": 3
   },
   "file_extension": ".py",
   "mimetype": "text/x-python",
   "name": "python",
   "nbconvert_exporter": "python",
   "pygments_lexer": "ipython3",
   "version": "3.12.1"
  }
 },
 "nbformat": 4,
 "nbformat_minor": 5
}
